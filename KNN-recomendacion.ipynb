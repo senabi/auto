{
  "nbformat": 4,
  "nbformat_minor": 0,
  "metadata": {
    "colab": {
      "name": "KNN-rec-sys",
      "provenance": [],
      "collapsed_sections": [],
      "authorship_tag": "ABX9TyNIFYgtMSm+uHOxywsUYjju",
      "include_colab_link": true
    },
    "kernelspec": {
      "name": "python3",
      "display_name": "Python 3"
    }
  },
  "cells": [
    {
      "cell_type": "markdown",
      "metadata": {
        "id": "view-in-github",
        "colab_type": "text"
      },
      "source": [
        "<a href=\"https://colab.research.google.com/github/senabi/auto/blob/main/KNN-recomendacion.ipynb\" target=\"_parent\"><img src=\"https://colab.research.google.com/assets/colab-badge.svg\" alt=\"Open In Colab\"/></a>"
      ]
    },
    {
      "cell_type": "markdown",
      "metadata": {
        "id": "yXxrD2YjA52j"
      },
      "source": [
        "# Descargamos los datasets"
      ]
    },
    {
      "cell_type": "code",
      "metadata": {
        "colab": {
          "base_uri": "https://localhost:8080/"
        },
        "id": "RssfAFpvcLkA",
        "outputId": "15616523-248f-4c34-873b-ee613ec4cf9d"
      },
      "source": [
        "!wget --no-check-certificate https://files.grouplens.org/datasets/movielens/ml-latest-small.zip\n",
        "!wget --no-check-certificate https://files.grouplens.org/datasets/movielens/ml-25m.zip\n",
        "!unzip ml-latest-small.zip\n",
        "!unzip ml-25m.zip"
      ],
      "execution_count": 2,
      "outputs": [
        {
          "output_type": "stream",
          "text": [
            "--2021-05-14 18:33:06--  https://files.grouplens.org/datasets/movielens/ml-latest-small.zip\n",
            "Resolving files.grouplens.org (files.grouplens.org)... 128.101.65.152\n",
            "Connecting to files.grouplens.org (files.grouplens.org)|128.101.65.152|:443... connected.\n",
            "WARNING: cannot verify files.grouplens.org's certificate, issued by ‘CN=InCommon RSA Server CA,OU=InCommon,O=Internet2,L=Ann Arbor,ST=MI,C=US’:\n",
            "  Unable to locally verify the issuer's authority.\n",
            "HTTP request sent, awaiting response... 200 OK\n",
            "Length: 978202 (955K) [application/zip]\n",
            "Saving to: ‘ml-latest-small.zip’\n",
            "\n",
            "ml-latest-small.zip 100%[===================>] 955.28K  2.66MB/s    in 0.4s    \n",
            "\n",
            "2021-05-14 18:33:07 (2.66 MB/s) - ‘ml-latest-small.zip’ saved [978202/978202]\n",
            "\n",
            "--2021-05-14 18:33:07--  https://files.grouplens.org/datasets/movielens/ml-25m.zip\n",
            "Resolving files.grouplens.org (files.grouplens.org)... 128.101.65.152\n",
            "Connecting to files.grouplens.org (files.grouplens.org)|128.101.65.152|:443... connected.\n",
            "WARNING: cannot verify files.grouplens.org's certificate, issued by ‘CN=InCommon RSA Server CA,OU=InCommon,O=Internet2,L=Ann Arbor,ST=MI,C=US’:\n",
            "  Unable to locally verify the issuer's authority.\n",
            "HTTP request sent, awaiting response... 200 OK\n",
            "Length: 261978986 (250M) [application/zip]\n",
            "Saving to: ‘ml-25m.zip’\n",
            "\n",
            "ml-25m.zip          100%[===================>] 249.84M  42.3MB/s    in 6.3s    \n",
            "\n",
            "2021-05-14 18:33:13 (39.6 MB/s) - ‘ml-25m.zip’ saved [261978986/261978986]\n",
            "\n",
            "Archive:  ml-latest-small.zip\n",
            "   creating: ml-latest-small/\n",
            "  inflating: ml-latest-small/links.csv  \n",
            "  inflating: ml-latest-small/tags.csv  \n",
            "  inflating: ml-latest-small/ratings.csv  \n",
            "  inflating: ml-latest-small/README.txt  \n",
            "  inflating: ml-latest-small/movies.csv  \n",
            "Archive:  ml-25m.zip\n",
            "   creating: ml-25m/\n",
            "  inflating: ml-25m/tags.csv         \n",
            "  inflating: ml-25m/links.csv        \n",
            "  inflating: ml-25m/README.txt       \n",
            "  inflating: ml-25m/ratings.csv      \n",
            "  inflating: ml-25m/genome-tags.csv  \n",
            "  inflating: ml-25m/genome-scores.csv  \n",
            "  inflating: ml-25m/movies.csv       \n"
          ],
          "name": "stdout"
        }
      ]
    },
    {
      "cell_type": "markdown",
      "metadata": {
        "id": "7cxmkZn5BBqr"
      },
      "source": [
        "# Importamos las librerias necesarias"
      ]
    },
    {
      "cell_type": "code",
      "metadata": {
        "id": "7tGtcb1-coDN"
      },
      "source": [
        "import time\n",
        "import numpy as np\n",
        "import pandas as pd\n",
        "from scipy.stats.stats import pearsonr\n",
        "from scipy.spatial import distance\n",
        "from scipy import spatial\n",
        "import matplotlib.pyplot as plt"
      ],
      "execution_count": 3,
      "outputs": []
    },
    {
      "cell_type": "markdown",
      "metadata": {
        "id": "Wwu39LCsBO1j"
      },
      "source": [
        "# Leemos los datasets"
      ]
    },
    {
      "cell_type": "code",
      "metadata": {
        "id": "WdUICtg4dZYX"
      },
      "source": [
        "#100k\n",
        "ratings=pd.read_csv(\"ml-latest-small/ratings.csv\")\n",
        "movies=pd.read_csv(\"ml-latest-small/movies.csv\")\n",
        "\n",
        "\n",
        "#25M\n",
        "#ratings=pd.read_csv(\"ml-25m/ratings.csv\")\n",
        "#moviess=pd.read_csv(\"ml-25m/movies.csv\")\n",
        "\n",
        "movies.drop([\"genres\"], axis=1, inplace=True)\n",
        "ratings.drop([\"timestamp\"], axis=1, inplace=True)"
      ],
      "execution_count": 4,
      "outputs": []
    },
    {
      "cell_type": "code",
      "metadata": {
        "colab": {
          "base_uri": "https://localhost:8080/",
          "height": 419
        },
        "id": "Lmfd0cy_xEr_",
        "outputId": "8112b12f-a0c1-46b5-fcb3-6abd875715d0"
      },
      "source": [
        "ratings"
      ],
      "execution_count": 169,
      "outputs": [
        {
          "output_type": "execute_result",
          "data": {
            "text/html": [
              "<div>\n",
              "<style scoped>\n",
              "    .dataframe tbody tr th:only-of-type {\n",
              "        vertical-align: middle;\n",
              "    }\n",
              "\n",
              "    .dataframe tbody tr th {\n",
              "        vertical-align: top;\n",
              "    }\n",
              "\n",
              "    .dataframe thead th {\n",
              "        text-align: right;\n",
              "    }\n",
              "</style>\n",
              "<table border=\"1\" class=\"dataframe\">\n",
              "  <thead>\n",
              "    <tr style=\"text-align: right;\">\n",
              "      <th></th>\n",
              "      <th>userId</th>\n",
              "      <th>movieId</th>\n",
              "      <th>rating</th>\n",
              "    </tr>\n",
              "  </thead>\n",
              "  <tbody>\n",
              "    <tr>\n",
              "      <th>0</th>\n",
              "      <td>1</td>\n",
              "      <td>1</td>\n",
              "      <td>4.0</td>\n",
              "    </tr>\n",
              "    <tr>\n",
              "      <th>1</th>\n",
              "      <td>1</td>\n",
              "      <td>3</td>\n",
              "      <td>4.0</td>\n",
              "    </tr>\n",
              "    <tr>\n",
              "      <th>2</th>\n",
              "      <td>1</td>\n",
              "      <td>6</td>\n",
              "      <td>4.0</td>\n",
              "    </tr>\n",
              "    <tr>\n",
              "      <th>3</th>\n",
              "      <td>1</td>\n",
              "      <td>47</td>\n",
              "      <td>5.0</td>\n",
              "    </tr>\n",
              "    <tr>\n",
              "      <th>4</th>\n",
              "      <td>1</td>\n",
              "      <td>50</td>\n",
              "      <td>5.0</td>\n",
              "    </tr>\n",
              "    <tr>\n",
              "      <th>...</th>\n",
              "      <td>...</td>\n",
              "      <td>...</td>\n",
              "      <td>...</td>\n",
              "    </tr>\n",
              "    <tr>\n",
              "      <th>100831</th>\n",
              "      <td>610</td>\n",
              "      <td>166534</td>\n",
              "      <td>4.0</td>\n",
              "    </tr>\n",
              "    <tr>\n",
              "      <th>100832</th>\n",
              "      <td>610</td>\n",
              "      <td>168248</td>\n",
              "      <td>5.0</td>\n",
              "    </tr>\n",
              "    <tr>\n",
              "      <th>100833</th>\n",
              "      <td>610</td>\n",
              "      <td>168250</td>\n",
              "      <td>5.0</td>\n",
              "    </tr>\n",
              "    <tr>\n",
              "      <th>100834</th>\n",
              "      <td>610</td>\n",
              "      <td>168252</td>\n",
              "      <td>5.0</td>\n",
              "    </tr>\n",
              "    <tr>\n",
              "      <th>100835</th>\n",
              "      <td>610</td>\n",
              "      <td>170875</td>\n",
              "      <td>3.0</td>\n",
              "    </tr>\n",
              "  </tbody>\n",
              "</table>\n",
              "<p>100836 rows × 3 columns</p>\n",
              "</div>"
            ],
            "text/plain": [
              "        userId  movieId  rating\n",
              "0            1        1     4.0\n",
              "1            1        3     4.0\n",
              "2            1        6     4.0\n",
              "3            1       47     5.0\n",
              "4            1       50     5.0\n",
              "...        ...      ...     ...\n",
              "100831     610   166534     4.0\n",
              "100832     610   168248     5.0\n",
              "100833     610   168250     5.0\n",
              "100834     610   168252     5.0\n",
              "100835     610   170875     3.0\n",
              "\n",
              "[100836 rows x 3 columns]"
            ]
          },
          "metadata": {
            "tags": []
          },
          "execution_count": 169
        }
      ]
    },
    {
      "cell_type": "code",
      "metadata": {
        "colab": {
          "base_uri": "https://localhost:8080/",
          "height": 419
        },
        "id": "_IK8Zs0zxHhE",
        "outputId": "612efea4-b047-4af4-adc3-fe5ca770f6af"
      },
      "source": [
        "movies"
      ],
      "execution_count": 5,
      "outputs": [
        {
          "output_type": "execute_result",
          "data": {
            "text/html": [
              "<div>\n",
              "<style scoped>\n",
              "    .dataframe tbody tr th:only-of-type {\n",
              "        vertical-align: middle;\n",
              "    }\n",
              "\n",
              "    .dataframe tbody tr th {\n",
              "        vertical-align: top;\n",
              "    }\n",
              "\n",
              "    .dataframe thead th {\n",
              "        text-align: right;\n",
              "    }\n",
              "</style>\n",
              "<table border=\"1\" class=\"dataframe\">\n",
              "  <thead>\n",
              "    <tr style=\"text-align: right;\">\n",
              "      <th></th>\n",
              "      <th>movieId</th>\n",
              "      <th>title</th>\n",
              "    </tr>\n",
              "  </thead>\n",
              "  <tbody>\n",
              "    <tr>\n",
              "      <th>0</th>\n",
              "      <td>1</td>\n",
              "      <td>Toy Story (1995)</td>\n",
              "    </tr>\n",
              "    <tr>\n",
              "      <th>1</th>\n",
              "      <td>2</td>\n",
              "      <td>Jumanji (1995)</td>\n",
              "    </tr>\n",
              "    <tr>\n",
              "      <th>2</th>\n",
              "      <td>3</td>\n",
              "      <td>Grumpier Old Men (1995)</td>\n",
              "    </tr>\n",
              "    <tr>\n",
              "      <th>3</th>\n",
              "      <td>4</td>\n",
              "      <td>Waiting to Exhale (1995)</td>\n",
              "    </tr>\n",
              "    <tr>\n",
              "      <th>4</th>\n",
              "      <td>5</td>\n",
              "      <td>Father of the Bride Part II (1995)</td>\n",
              "    </tr>\n",
              "    <tr>\n",
              "      <th>...</th>\n",
              "      <td>...</td>\n",
              "      <td>...</td>\n",
              "    </tr>\n",
              "    <tr>\n",
              "      <th>9737</th>\n",
              "      <td>193581</td>\n",
              "      <td>Black Butler: Book of the Atlantic (2017)</td>\n",
              "    </tr>\n",
              "    <tr>\n",
              "      <th>9738</th>\n",
              "      <td>193583</td>\n",
              "      <td>No Game No Life: Zero (2017)</td>\n",
              "    </tr>\n",
              "    <tr>\n",
              "      <th>9739</th>\n",
              "      <td>193585</td>\n",
              "      <td>Flint (2017)</td>\n",
              "    </tr>\n",
              "    <tr>\n",
              "      <th>9740</th>\n",
              "      <td>193587</td>\n",
              "      <td>Bungo Stray Dogs: Dead Apple (2018)</td>\n",
              "    </tr>\n",
              "    <tr>\n",
              "      <th>9741</th>\n",
              "      <td>193609</td>\n",
              "      <td>Andrew Dice Clay: Dice Rules (1991)</td>\n",
              "    </tr>\n",
              "  </tbody>\n",
              "</table>\n",
              "<p>9742 rows × 2 columns</p>\n",
              "</div>"
            ],
            "text/plain": [
              "      movieId                                      title\n",
              "0           1                           Toy Story (1995)\n",
              "1           2                             Jumanji (1995)\n",
              "2           3                    Grumpier Old Men (1995)\n",
              "3           4                   Waiting to Exhale (1995)\n",
              "4           5         Father of the Bride Part II (1995)\n",
              "...       ...                                        ...\n",
              "9737   193581  Black Butler: Book of the Atlantic (2017)\n",
              "9738   193583               No Game No Life: Zero (2017)\n",
              "9739   193585                               Flint (2017)\n",
              "9740   193587        Bungo Stray Dogs: Dead Apple (2018)\n",
              "9741   193609        Andrew Dice Clay: Dice Rules (1991)\n",
              "\n",
              "[9742 rows x 2 columns]"
            ]
          },
          "metadata": {
            "tags": []
          },
          "execution_count": 5
        }
      ]
    },
    {
      "cell_type": "markdown",
      "metadata": {
        "id": "OOKu8p7pDKFb"
      },
      "source": [
        "# Cantidad de usuario"
      ]
    },
    {
      "cell_type": "code",
      "metadata": {
        "colab": {
          "base_uri": "https://localhost:8080/"
        },
        "id": "pQUUqnsNBO2I",
        "outputId": "8bfe553f-9144-44d7-cf3e-9dc93f34af08"
      },
      "source": [
        "ratings['userId'].duplicated"
      ],
      "execution_count": 6,
      "outputs": [
        {
          "output_type": "execute_result",
          "data": {
            "text/plain": [
              "<bound method Series.duplicated of 0           1\n",
              "1           1\n",
              "2           1\n",
              "3           1\n",
              "4           1\n",
              "         ... \n",
              "100831    610\n",
              "100832    610\n",
              "100833    610\n",
              "100834    610\n",
              "100835    610\n",
              "Name: userId, Length: 100836, dtype: int64>"
            ]
          },
          "metadata": {
            "tags": []
          },
          "execution_count": 6
        }
      ]
    },
    {
      "cell_type": "markdown",
      "metadata": {
        "id": "FUgtEdmJQcQj"
      },
      "source": [
        "# Union del titulo con el rating usando `movieId`"
      ]
    },
    {
      "cell_type": "code",
      "metadata": {
        "colab": {
          "base_uri": "https://localhost:8080/",
          "height": 204
        },
        "id": "wjO3EL93Hkup",
        "outputId": "417ab189-db16-4d19-8633-562fd5ec07f9"
      },
      "source": [
        "# ratings.groupby('userId')\n",
        "ratings = pd.merge(ratings,movies,on='movieId')\n",
        "ratings.head()"
      ],
      "execution_count": 7,
      "outputs": [
        {
          "output_type": "execute_result",
          "data": {
            "text/html": [
              "<div>\n",
              "<style scoped>\n",
              "    .dataframe tbody tr th:only-of-type {\n",
              "        vertical-align: middle;\n",
              "    }\n",
              "\n",
              "    .dataframe tbody tr th {\n",
              "        vertical-align: top;\n",
              "    }\n",
              "\n",
              "    .dataframe thead th {\n",
              "        text-align: right;\n",
              "    }\n",
              "</style>\n",
              "<table border=\"1\" class=\"dataframe\">\n",
              "  <thead>\n",
              "    <tr style=\"text-align: right;\">\n",
              "      <th></th>\n",
              "      <th>userId</th>\n",
              "      <th>movieId</th>\n",
              "      <th>rating</th>\n",
              "      <th>title</th>\n",
              "    </tr>\n",
              "  </thead>\n",
              "  <tbody>\n",
              "    <tr>\n",
              "      <th>0</th>\n",
              "      <td>1</td>\n",
              "      <td>1</td>\n",
              "      <td>4.0</td>\n",
              "      <td>Toy Story (1995)</td>\n",
              "    </tr>\n",
              "    <tr>\n",
              "      <th>1</th>\n",
              "      <td>5</td>\n",
              "      <td>1</td>\n",
              "      <td>4.0</td>\n",
              "      <td>Toy Story (1995)</td>\n",
              "    </tr>\n",
              "    <tr>\n",
              "      <th>2</th>\n",
              "      <td>7</td>\n",
              "      <td>1</td>\n",
              "      <td>4.5</td>\n",
              "      <td>Toy Story (1995)</td>\n",
              "    </tr>\n",
              "    <tr>\n",
              "      <th>3</th>\n",
              "      <td>15</td>\n",
              "      <td>1</td>\n",
              "      <td>2.5</td>\n",
              "      <td>Toy Story (1995)</td>\n",
              "    </tr>\n",
              "    <tr>\n",
              "      <th>4</th>\n",
              "      <td>17</td>\n",
              "      <td>1</td>\n",
              "      <td>4.5</td>\n",
              "      <td>Toy Story (1995)</td>\n",
              "    </tr>\n",
              "  </tbody>\n",
              "</table>\n",
              "</div>"
            ],
            "text/plain": [
              "   userId  movieId  rating             title\n",
              "0       1        1     4.0  Toy Story (1995)\n",
              "1       5        1     4.0  Toy Story (1995)\n",
              "2       7        1     4.5  Toy Story (1995)\n",
              "3      15        1     2.5  Toy Story (1995)\n",
              "4      17        1     4.5  Toy Story (1995)"
            ]
          },
          "metadata": {
            "tags": []
          },
          "execution_count": 7
        }
      ]
    },
    {
      "cell_type": "markdown",
      "metadata": {
        "id": "O3bsTOnJBa5n"
      },
      "source": [
        "# Asignamos todos los ratings a su respectivo usuario"
      ]
    },
    {
      "cell_type": "code",
      "metadata": {
        "colab": {
          "base_uri": "https://localhost:8080/"
        },
        "id": "m6AFCchBCYPc",
        "outputId": "25f5e4dc-801f-4153-d352-0567bc77774e"
      },
      "source": [
        "usersRatings = {}\n",
        "moviesData = {}\n",
        "ratings_array = np.array(ratings.iloc[:,])\n",
        "\n",
        "print(type(ratings_array[0][0]), type(ratings_array[0][1]), type(ratings_array[0][2]), type(ratings_array[0][3]))\n",
        "\n",
        "for row in ratings_array:\n",
        "    _userid = int(row[0])\n",
        "    _movieid = int(row[1])\n",
        "    _rating = float(row[2])\n",
        "    _movietitle = row[3]\n",
        "\n",
        "    if _userid not in usersRatings: \n",
        "        usersRatings[_userid] = {_movieid: _rating}\n",
        "    else:\n",
        "        usersRatings[_userid][_movieid] = _rating\n",
        "\n",
        "    if _movieid not in moviesData:\n",
        "        moviesData[_movieid] = _movietitle\n"
      ],
      "execution_count": 8,
      "outputs": [
        {
          "output_type": "stream",
          "text": [
            "<class 'int'> <class 'int'> <class 'float'> <class 'str'>\n"
          ],
          "name": "stdout"
        }
      ]
    },
    {
      "cell_type": "markdown",
      "metadata": {
        "id": "2Y35a4LptasV"
      },
      "source": [
        "# Funciones de utilidad"
      ]
    },
    {
      "cell_type": "code",
      "metadata": {
        "id": "IJ0QDSqSUUia"
      },
      "source": [
        "def print_rating(user_id, movie_id=None):\n",
        "    global usersRatings, moviesData\n",
        "    if movie_id != None:\n",
        "            print(\"user_id:{0}\\tmovie_id:{1}\\ttitle: {2}\\t\\t\\trating: {3}\".format(\n",
        "            user_id, movie_id, moviesData[movie_id], usersRatings[user_id][movie_id]))\n",
        "    else:\n",
        "        for mov in usersRatings[user_id]:\n",
        "            print(\"user_id:{0}\\tmovie_id:{1}\\ttitle: {2}\\t\\t\\trating: {3}\".format(\n",
        "                user_id, mov, moviesData[mov], usersRatings[user_id][mov]))\n",
        "\n",
        "# print_rating(238)"
      ],
      "execution_count": 9,
      "outputs": []
    },
    {
      "cell_type": "markdown",
      "metadata": {
        "id": "CXuQShxYt662"
      },
      "source": [
        "# Funcion para elegir la pelicula recomendada"
      ]
    },
    {
      "cell_type": "code",
      "metadata": {
        "id": "TwQnIpxi-o0U"
      },
      "source": [
        "def recommend_movie(data, threshold):\n",
        "    print(type(data[0][1]))\n",
        "    global usersRatings, moviesData\n",
        "    # data[0] data[1] data[2]\n",
        "    movie_candidates = []\n",
        "    for d in data:\n",
        "        user = d[1]\n",
        "        for rated_movie in d[2]:\n",
        "            _rating = usersRatings[user][rated_movie]\n",
        "            if _rating >= threshold:\n",
        "                movie_candidates.append([_rating, rated_movie, moviesData[rated_movie]])\n",
        "    movie_candidates.sort(key=lambda x: x[0], reverse=True)\n",
        "    return movie_candidates[:-1]"
      ],
      "execution_count": 10,
      "outputs": []
    },
    {
      "cell_type": "markdown",
      "metadata": {
        "id": "Ani0GPGEtE6R"
      },
      "source": [
        "# Medidas de Similitud"
      ]
    },
    {
      "cell_type": "code",
      "metadata": {
        "id": "DgyF4aFmtM1v"
      },
      "source": [
        "def euclidean(x,y):\n",
        "    return np.linalg.norm(x-y)\n",
        "\n",
        "def manhattan(x,y):\n",
        "    return np.sum(np.abs(x-y))\n",
        "\n",
        "def cosine_sim(x,y):\n",
        "    x_norm = np.linalg.norm(x)\n",
        "    y_norm = np.linalg.norm(y)\n",
        "    return (x @ y) / (x_norm * y_norm)\n",
        "\n",
        "def pearson(x,y):\n",
        "    return pearsonr(x,y)[0]"
      ],
      "execution_count": 11,
      "outputs": []
    },
    {
      "cell_type": "code",
      "metadata": {
        "id": "LM5k9bbxbOoT"
      },
      "source": [
        "def KNN(K, user_id, metric=\"euclidean\"):\n",
        "    if metric == \"euclidean\": func = euclidean\n",
        "    if metric == \"cosine_sim\": func = cosine_sim\n",
        "    if metric == \"manhattan\": func = manhattan\n",
        "    if metric == \"pearson\": func = pearson\n",
        "\n",
        "    global usersRatings, moviesData, ratings_array\n",
        "    # _movies = {}\n",
        "\n",
        "    def get_shared_data(u1,u2):\n",
        "        _data = []\n",
        "        for _mov in usersRatings[u1]:\n",
        "            if _mov in usersRatings[u2]:\n",
        "                _userRating = usersRatings[u1][_mov]\n",
        "                _anotherRating = usersRatings[u2][_mov]\n",
        "                _data.append([_userRating, _anotherRating, _mov, u1, u2])\n",
        "        r = np.array(_data)\n",
        "        err = [ [], [], [], True]\n",
        "        return (r[:,0], r[:,1], r[:,2], False) if len(r) > 0 else err\n",
        "\n",
        "\n",
        "    data = []\n",
        "    nocommon = 0\n",
        "    for u in usersRatings:\n",
        "        if u != user_id:\n",
        "            rating_u1, rating_u2, movie_ids, empty = get_shared_data(user_id, u)\n",
        "            size = len(rating_u1)\n",
        "            # same = \n",
        "            if empty:\n",
        "                nocommon +=1\n",
        "                # continue\n",
        "            # elif (rating_u1 == rating_u2).all() and len(rating_u1) >= 2:\n",
        "            #     pass\n",
        "                # if metric==\"euclidean\" or metric==\"manhattan\":\n",
        "                #     data.append([0,u,movie_ids, size])\n",
        "#                elif metric==\"pearson\":\n",
        "#                    if len(rating_u1) >= 2:\n",
        "#                        data.append([1,u,movie_ids])\n",
        "#                elif metric==\"cosine-sim\":\n",
        "#                    data.append([1,u,movie_ids])\n",
        "            else:\n",
        "                distance = 9999\n",
        "                if metric==\"pearson\":\n",
        "                    if len(rating_u1) < 2:\n",
        "                        continue\n",
        "                    if np.all(rating_u1 == rating_u1[0]):\n",
        "                        rating_u1[np.random.randint(0,len(rating_u1))]-=0.01\n",
        "                        continue\n",
        "                    if np.all(rating_u2 == rating_u2[0]):\n",
        "                        rating_u2[np.random.randint(0,len(rating_u2))]-=0.01\n",
        "                        continue\n",
        "                distance=func(rating_u1, rating_u2)\n",
        "\n",
        "                if metric==\"pearson\":\n",
        "                    if abs(1 - distance) <= 1.0e-05:\n",
        "                        distance = 1\n",
        "\n",
        "                data.append([distance, u, movie_ids, size])\n",
        "#            if u == 119:\n",
        "#                print(\"%%%%%%%%%%%%%%%%%%%%%%%%%%%\",u)\n",
        "#                print(distance)\n",
        "#                print(rating_u1)\n",
        "#                print(rating_u2)\n",
        "                # if \n",
        "                    \n",
        "    data.sort(key=lambda x: x[0])\n",
        "\n",
        "    if metric==\"euclidean\" or metric==\"manhattan\":\n",
        "        data = data[:K]\n",
        "    else:\n",
        "        rev = data[-K:]\n",
        "        rev.reverse()\n",
        "        data = rev\n",
        "\n",
        "    for i,x in enumerate(data):\n",
        "        if i <= 50:\n",
        "          #   print(x)\n",
        "            print(\"distance to {0}: {1}, dimension: {2}, movies: {3} \".format(x[1], x[0], x[3], x[2]), end='')\n",
        "            for _ in x[2]:\n",
        "                print(\"{0}\".format(moviesData[_]),end=',')\n",
        "            print()\n",
        "    \n",
        "    return data\n",
        "\n"
      ],
      "execution_count": 20,
      "outputs": []
    },
    {
      "cell_type": "markdown",
      "metadata": {
        "id": "tHxiRt6TwwE5"
      },
      "source": [
        "# Test data"
      ]
    },
    {
      "cell_type": "code",
      "metadata": {
        "colab": {
          "base_uri": "https://localhost:8080/"
        },
        "id": "6R7huZhrZFCL",
        "outputId": "c787ce2b-adc8-4311-9497-f5847eea7a55"
      },
      "source": [
        "print(manhattan(np.array([5,5]),np.array([4,2])))"
      ],
      "execution_count": 106,
      "outputs": [
        {
          "output_type": "stream",
          "text": [
            "4\n"
          ],
          "name": "stdout"
        }
      ]
    },
    {
      "cell_type": "code",
      "metadata": {
        "colab": {
          "base_uri": "https://localhost:8080/"
        },
        "id": "e7tz9Dt_zuw6",
        "outputId": "535ef3e3-0c7a-458a-d23e-5bbdac877268"
      },
      "source": [
        "ls = [('2959', 5.0), ('3361', 5.0), ('3552', 5.0), ('3578', 5.0), ('44191', 5.0), ('46976', 5.0), ('51255', 5.0), ('58559', 5.0), ('60069', 5.0), ('68954', 5.0), ('80463', 5.0), ('99114', 5.0), ('109374', 5.0), ('109487', 5.0), ('122904', 5.0)]\n",
        "for _ in ls:\n",
        "    print(moviesData[int(_[0])])"
      ],
      "execution_count": 114,
      "outputs": [
        {
          "output_type": "stream",
          "text": [
            "Fight Club (1999)\n",
            "Bull Durham (1988)\n",
            "Caddyshack (1980)\n",
            "Gladiator (2000)\n",
            "V for Vendetta (2006)\n",
            "Stranger than Fiction (2006)\n",
            "Hot Fuzz (2007)\n",
            "Dark Knight, The (2008)\n",
            "WALL·E (2008)\n",
            "Up (2009)\n",
            "Social Network, The (2010)\n",
            "Django Unchained (2012)\n",
            "Grand Budapest Hotel, The (2014)\n",
            "Interstellar (2014)\n",
            "Deadpool (2016)\n"
          ],
          "name": "stdout"
        }
      ]
    },
    {
      "cell_type": "markdown",
      "metadata": {
        "id": "HM6ZIRyuclHe"
      },
      "source": [
        "Dark knight, The(2008), Gladiator (2000), Raiders of the Lost Ark (Indiana Jones and the Raiders of the Lost Ark) (1981)"
      ]
    },
    {
      "cell_type": "code",
      "metadata": {
        "colab": {
          "base_uri": "https://localhost:8080/"
        },
        "id": "PluGzZpIsv6k",
        "outputId": "a701fffa-331e-41bf-d0dd-91b7c55758c9"
      },
      "source": [
        "for _ in [(60756, 5.0), (80906, 5.0), (89774, 5.0), (106782, 5.0), (122882, 5.0)]:\n",
        "    print(moviesData[_[0]])"
      ],
      "execution_count": 116,
      "outputs": [
        {
          "output_type": "stream",
          "text": [
            "Step Brothers (2008)\n",
            "Inside Job (2010)\n",
            "Warrior (2011)\n",
            "Wolf of Wall Street, The (2013)\n",
            "Mad Max: Fury Road (2015)\n"
          ],
          "name": "stdout"
        }
      ]
    },
    {
      "cell_type": "markdown",
      "metadata": {
        "id": "LCnz7p7Nxf_9"
      },
      "source": [
        ""
      ]
    },
    {
      "cell_type": "markdown",
      "metadata": {
        "id": "v4NEz6elxiK0"
      },
      "source": [
        "# Grado de influencia"
      ]
    },
    {
      "cell_type": "code",
      "metadata": {
        "id": "YoYlstxGxkUC"
      },
      "source": [
        "def g_influencia(user_id, data, metric):\n",
        "    global usersRatings, moviesData\n",
        "    neighbours = {}\n",
        "    common_movies = set(usersRatings[data[0][1]].keys())\n",
        "    # guardar peliculas vistas entre vecionos que no haya visto user_id\n",
        "    # base movies\n",
        "\n",
        "    to_remove = set()\n",
        "    \n",
        "    for i,d in enumerate(data):\n",
        "        if i==0: continue\n",
        "        else:\n",
        "           neigh_movies = usersRatings[d[1]]\n",
        "           for _m in common_movies:\n",
        "               if _m not in neigh_movies:\n",
        "                   to_remove.add(_m)\n",
        "\n",
        "    print(to_remove)\n",
        "    for r in to_remove:\n",
        "        common_movies.remove(r)\n",
        "    \n",
        "    print(common_movies)\n",
        "    \n",
        "    # if metric == \"pearson\":\n",
        "\n",
        "\n",
        "#    for d in data:\n",
        "#        _distance = d[0]\n",
        "#        _user_id = d[1]\n",
        "#        _seen_mov = d[2]\n",
        "#        # recorremos cada pelicula de los vecionos que no haya visto\n",
        "#        # verificar que estas peliculas no hayan sido vistaas por nuestro usuario\n",
        "#        # peliculas que vieron todos los vecinos\n",
        "#        if metric == \"pearson\":\n",
        "#            for mov in usersRatings[_user_id]:\n",
        "#                # verificar si ya vio la\n",
        "#                if mov in user\n",
        "#\n",
        "# g_influencia(580, data, \"pearson\")"
      ],
      "execution_count": 14,
      "outputs": []
    },
    {
      "cell_type": "markdown",
      "metadata": {
        "id": "NJ0NrB7Zguos"
      },
      "source": [
        "# Nuevo usuario que coloca puntaje a pelicula"
      ]
    },
    {
      "cell_type": "code",
      "metadata": {
        "id": "0UnSOdszwZSe"
      },
      "source": [
        "def insert_newrating_by_newuser(user_id, movie_id, rating):\n",
        "    global usersRatings, moviesData\n",
        "    if user_id in usersRatings:\n",
        "        print(\"USER ALREADY INSERTED\")\n",
        "        if movie_id in usersRatings[user_id]:\n",
        "            print(\"USER ALREADY RATED THAT MOVIE\")\n",
        "        else:\n",
        "            usersRatings[user_id][movie_id] = rating\n",
        "    else:\n",
        "        print(\"NEW USER, NEW RATING\")\n",
        "        usersRatings[user_id] = {movie_id: rating}\n",
        "    print(usersRatings)"
      ],
      "execution_count": 15,
      "outputs": []
    },
    {
      "cell_type": "markdown",
      "metadata": {
        "id": "1UE0brSpDXOy"
      },
      "source": [
        " # Pruebas"
      ]
    },
    {
      "cell_type": "code",
      "metadata": {
        "id": "LW_HnHexDT5L"
      },
      "source": [
        "N = len(usersRatings)\n",
        "i = 0\n",
        "t_eucl = []\n",
        "t_manl = []\n",
        "t_cosl = []\n",
        "t_peal = []\n",
        "for x in usersRatings:\n",
        "    if i <= 100:\n",
        "        # cada 4\n",
        "        s=time.time()\n",
        "        KNN(5,x,'euclidean')\n",
        "        e=time.time()\n",
        "        t_eucl.append(e-s)\n",
        "\n",
        "        s=time.time()\n",
        "        KNN(5,x,'manhattan')\n",
        "        e=time.time()\n",
        "        t_manl.append(e-s)\n",
        "\n",
        "        s=time.time()\n",
        "        KNN(5,x,'cosine_sim')\n",
        "        e=time.time()\n",
        "        t_cosl.append(e-s)\n",
        "\n",
        "        s=time.time()\n",
        "        KNN(5,x,'pearson')\n",
        "        e=time.time()\n",
        "        t_peal.append(e-s)\n",
        "    i+=1"
      ],
      "execution_count": 16,
      "outputs": []
    },
    {
      "cell_type": "code",
      "metadata": {
        "colab": {
          "base_uri": "https://localhost:8080/",
          "height": 337
        },
        "id": "PDZ5Ia5NGfDe",
        "outputId": "717270d7-12dd-4409-bf54-3d5c4386aa67"
      },
      "source": [
        "prom_e = sum(t_eucl)/len(t_eucl)\n",
        "prom_m = sum(t_manl)/len(t_manl)\n",
        "prom_c = sum(t_cosl)/len(t_cosl)\n",
        "prom_p = sum(t_peal)/len(t_peal)\n",
        "\n",
        "f = ['euclidean', 'manhattan', 'cosein_sim', 'pearson']\n",
        "fig = plt.figure()\n",
        "ax = fig.add_axes([0,0,1,1])\n",
        "ax.bar(f, [prom_e, prom_m, prom_c, prom_p])\n",
        "plt.show()"
      ],
      "execution_count": 17,
      "outputs": [
        {
          "output_type": "display_data",
          "data": {
            "image/png": "[encoded data removed]",
            "text/plain": [
              "<Figure size 432x288 with 1 Axes>"
            ]
          },
          "metadata": {
            "tags": [],
            "needs_background": "light"
          }
        }
      ]
    },
    {
      "cell_type": "markdown",
      "metadata": {
        "id": "ORUPxJxGKkhL"
      },
      "source": [
        "# Comprobamos que los vecionos recomendados son similares usando las diferentes metricas"
      ]
    },
    {
      "cell_type": "code",
      "metadata": {
        "colab": {
          "base_uri": "https://localhost:8080/"
        },
        "id": "NEFAtmHQJgzX",
        "outputId": "17436078-31f5-4692-ad59-b329a9da75da"
      },
      "source": [
        "data = KNN(5, 580, \"euclidean\")\n",
        "print()\n",
        "data = KNN(5, 580, \"manhattan\")\n",
        "print()\n",
        "data = KNN(5, 580, 'pearson')\n",
        "print()\n",
        "data = KNN(5, 580, \"cosine_sim\")\n",
        "print()"
      ],
      "execution_count": 23,
      "outputs": [
        {
          "output_type": "stream",
          "text": [
            "distance to 207: 0.7071067811865476, dimension: 3, movies: [2329. 2858. 2021.] American History X (1998),American Beauty (1999),Dune (1984),\n",
            "distance to 358: 1.0, dimension: 4, movies: [1721. 7254. 7361. 3081.] Titanic (1997),The Butterfly Effect (2004),Eternal Sunshine of the Spotless Mind (2004),Sleepy Hollow (1999),\n",
            "distance to 550: 1.224744871391589, dimension: 4, movies: [1.000e+00 3.560e+02 2.571e+03 3.180e+02] Toy Story (1995),Forrest Gump (1994),Matrix, The (1999),Shawshank Redemption, The (1994),\n",
            "distance to 575: 1.224744871391589, dimension: 4, movies: [ 296. 2542. 2571. 2539.] Pulp Fiction (1994),Lock, Stock & Two Smoking Barrels (1998),Matrix, The (1999),Analyze This (1999),\n",
            "distance to 505: 1.3228756555322954, dimension: 7, movies: [  47.  593. 2959. 4226.  327. 6502. 7360.] Seven (a.k.a. Se7en) (1995),Silence of the Lambs, The (1991),Fight Club (1999),Memento (2000),Tank Girl (1995),28 Days Later (2002),Dawn of the Dead (2004),\n",
            "\n",
            "distance to 207: 1.0, dimension: 3, movies: [2329. 2858. 2021.] American History X (1998),American Beauty (1999),Dune (1984),\n",
            "distance to 358: 1.0, dimension: 4, movies: [1721. 7254. 7361. 3081.] Titanic (1997),The Butterfly Effect (2004),Eternal Sunshine of the Spotless Mind (2004),Sleepy Hollow (1999),\n",
            "distance to 550: 2.0, dimension: 4, movies: [1.000e+00 3.560e+02 2.571e+03 3.180e+02] Toy Story (1995),Forrest Gump (1994),Matrix, The (1999),Shawshank Redemption, The (1994),\n",
            "distance to 278: 2.0, dimension: 3, movies: [ 50. 527. 318.] Usual Suspects, The (1995),Schindler's List (1993),Shawshank Redemption, The (1994),\n",
            "distance to 595: 2.0, dimension: 4, movies: [  50.  780. 2628. 1199.] Usual Suspects, The (1995),Independence Day (a.k.a. ID4) (1996),Star Wars: Episode I - The Phantom Menace (1999),Brazil (1985),\n",
            "\n",
            "distance to 175: 1, dimension: 2, movies: [45880.  5410.] Marie Antoinette (2006),Silent Running (1972),\n",
            "distance to 92: 1, dimension: 2, movies: [  327. 51662.] Tank Girl (1995),300 (2007),\n",
            "distance to 12: 1, dimension: 3, movies: [1721. 1357. 1876.] Titanic (1997),Shine (1996),Deep Impact (1998),\n",
            "distance to 207: 0.9819805060619656, dimension: 3, movies: [2329. 2858. 2021.] American History X (1998),American Beauty (1999),Dune (1984),\n",
            "distance to 87: 0.9678053386344171, dimension: 5, movies: [1136.  327. 1584. 4973. 2009.] Monty Python and the Holy Grail (1975),Tank Girl (1995),Contact (1997),Amelie (Fabuleux destin d'Amélie Poulain, Le) (2001),Soylent Green (1973),\n",
            "\n",
            "distance to 12: 0.9996081120648961, dimension: 3, movies: [1721. 1357. 1876.] Titanic (1997),Shine (1996),Deep Impact (1998),\n",
            "distance to 207: 0.9980723012298871, dimension: 3, movies: [2329. 2858. 2021.] American History X (1998),American Beauty (1999),Dune (1984),\n",
            "distance to 505: 0.996525328643134, dimension: 7, movies: [  47.  593. 2959. 4226.  327. 6502. 7360.] Seven (a.k.a. Se7en) (1995),Silence of the Lambs, The (1991),Fight Club (1999),Memento (2000),Tank Girl (1995),28 Days Later (2002),Dawn of the Dead (2004),\n",
            "distance to 454: 0.9951152672684376, dimension: 13, movies: [  296.  1089.  1208.  2692.  2858.  6874.  3949. 48774.   111.  4878.\n",
            "  7361.  6016.  8950.] Pulp Fiction (1994),Reservoir Dogs (1992),Apocalypse Now (1979),Run Lola Run (Lola rennt) (1998),American Beauty (1999),Kill Bill: Vol. 1 (2003),Requiem for a Dream (2000),Children of Men (2006),Taxi Driver (1976),Donnie Darko (2001),Eternal Sunshine of the Spotless Mind (2004),City of God (Cidade de Deus) (2002),The Machinist (2004),\n",
            "distance to 106: 0.994998372086408, dimension: 10, movies: [ 2571.   318.  4993.  5218.  5349.  5952.  6539.  7153. 45722. 41566.] Matrix, The (1999),Shawshank Redemption, The (1994),Lord of the Rings: The Fellowship of the Ring, The (2001),Ice Age (2002),Spider-Man (2002),Lord of the Rings: The Two Towers, The (2002),Pirates of the Caribbean: The Curse of the Black Pearl (2003),Lord of the Rings: The Return of the King, The (2003),Pirates of the Caribbean: Dead Man's Chest (2006),Chronicles of Narnia: The Lion, the Witch and the Wardrobe, The (2005),\n",
            "\n"
          ],
          "name": "stdout"
        }
      ]
    }
  ]
}